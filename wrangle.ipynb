{
 "cells": [
  {
   "cell_type": "markdown",
   "id": "af5e33c2",
   "metadata": {},
   "source": [
    "## Zillow Exercises"
   ]
  },
  {
   "cell_type": "code",
   "execution_count": 81,
   "id": "1aace329",
   "metadata": {},
   "outputs": [],
   "source": [
    "import pandas as pd\n",
    "import numpy as np \n",
    "\n",
    "import matplotlib.pyplot as plt\n",
    "import seaborn as sns\n",
    "\n",
    "from sklearn.model_selection import train_test_split\n",
    "\n",
    "from env import host, user, password"
   ]
  },
  {
   "cell_type": "markdown",
   "id": "cfc88d44",
   "metadata": {},
   "source": [
    "Let's set up an example scenario as perspective for our regression exercises using the Zillow dataset.\n",
    "\n",
    "As a Codeup data science graduate, you want to show off your skills to the Zillow data science team in hopes of getting an interview for a position you saw pop up on LinkedIn. You thought it might look impressive to build an end-to-end project in which you use some of their Kaggle data to predict property values using some of their available features; who knows, you might even do some feature engineering to blow them away. Your goal is to predict the values of single unit properties using the obervations from 2017.\n",
    "\n",
    "In these exercises, you will complete the first step toward the above goal: acquire and prepare the necessary Zillow data from the zillow database in the Codeup database server."
   ]
  },
  {
   "cell_type": "markdown",
   "id": "4102b688",
   "metadata": {},
   "source": [
    "1. Acquire bedroomcnt, bathroomcnt, calculatedfinishedsquarefeet, taxvaluedollarcnt, yearbuilt, taxamount, and fips from the zillow database for all 'Single Family Residential' properties."
   ]
  },
  {
   "cell_type": "code",
   "execution_count": 62,
   "id": "d9faaa4b",
   "metadata": {},
   "outputs": [],
   "source": [
    "# Connect to SQL database\n",
    "def get_db_url(db_name):\n",
    "    '''\n",
    "    This function contacts Codeup's SQL database and uses the info from \n",
    "    my env to create a connection URL.\n",
    "    '''\n",
    "    return f'mysql+pymysql://{user}:{password}@{host}/{db_name}'"
   ]
  },
  {
   "cell_type": "code",
   "execution_count": 63,
   "id": "ed3a3ca1",
   "metadata": {},
   "outputs": [],
   "source": [
    "# Get Zillow data\n",
    "\n",
    "def get_zillow_data():\n",
    "    '''\n",
    "    This function reads the zillow data from Codeup database to a dataframe,\n",
    "    and returns the dataframe.\n",
    "    '''\n",
    "    # SQL query\n",
    "    sql_query =  '''\n",
    "            \n",
    "    SELECT bedroomcnt, bathroomcnt, calculatedfinishedsquarefeet, taxvaluedollarcnt, yearbuilt, taxamount, fips\n",
    "    FROM properties_2017\n",
    "    LEFT JOIN propertylandusetype USING(propertylandusetypeid)\n",
    "    WHERE propertylandusedesc IN (\"Single Family Residential\",                       \n",
    "                                  \"Inferred Single Family Residential\")'''\n",
    "    \n",
    "    # Read in DataFrame\n",
    "    df = pd.read_sql(sql_query, get_db_url('zillow'))\n",
    "    \n",
    "    df = df.rename(columns = {'bedroomcnt': 'num_beds',\n",
    "                                      'bathroomcnt': 'num_baths',\n",
    "                                      'calculatedfinishedsquarefeet': 'square_footage',\n",
    "                                      'taxvaluedollarcnt': 'tax_value',\n",
    "                                      'yearbuilt': 'year_built', 'taxamount': 'tax_amount'})\n",
    "    return df\n"
   ]
  },
  {
   "cell_type": "code",
   "execution_count": 64,
   "id": "b0050a71",
   "metadata": {},
   "outputs": [],
   "source": [
    "# Simpler SQL without JOINS would be: \n",
    "#     SELECT bedroomcnt, bathroomcnt, calculatedfinishedsquarefeet, \n",
    "#                    taxvaluedollarcnt, yearbuilt, taxamount, fips, propertylandusetypeid\n",
    "#                FROM properties_2017\n",
    "#                WHERE propertylandusetypeid LIKE '261' OR propertylandusetypeid LIKE '279'"
   ]
  },
  {
   "cell_type": "code",
   "execution_count": 65,
   "id": "2c4b4bc4",
   "metadata": {},
   "outputs": [
    {
     "data": {
      "text/html": [
       "<div>\n",
       "<style scoped>\n",
       "    .dataframe tbody tr th:only-of-type {\n",
       "        vertical-align: middle;\n",
       "    }\n",
       "\n",
       "    .dataframe tbody tr th {\n",
       "        vertical-align: top;\n",
       "    }\n",
       "\n",
       "    .dataframe thead th {\n",
       "        text-align: right;\n",
       "    }\n",
       "</style>\n",
       "<table border=\"1\" class=\"dataframe\">\n",
       "  <thead>\n",
       "    <tr style=\"text-align: right;\">\n",
       "      <th></th>\n",
       "      <th>num_beds</th>\n",
       "      <th>num_baths</th>\n",
       "      <th>square_footage</th>\n",
       "      <th>tax_value</th>\n",
       "      <th>year_built</th>\n",
       "      <th>tax_amount</th>\n",
       "      <th>fips</th>\n",
       "    </tr>\n",
       "  </thead>\n",
       "  <tbody>\n",
       "    <tr>\n",
       "      <th>0</th>\n",
       "      <td>0.0</td>\n",
       "      <td>0.0</td>\n",
       "      <td>NaN</td>\n",
       "      <td>27516.0</td>\n",
       "      <td>NaN</td>\n",
       "      <td>NaN</td>\n",
       "      <td>6037.0</td>\n",
       "    </tr>\n",
       "    <tr>\n",
       "      <th>1</th>\n",
       "      <td>0.0</td>\n",
       "      <td>0.0</td>\n",
       "      <td>NaN</td>\n",
       "      <td>10.0</td>\n",
       "      <td>NaN</td>\n",
       "      <td>NaN</td>\n",
       "      <td>6037.0</td>\n",
       "    </tr>\n",
       "    <tr>\n",
       "      <th>2</th>\n",
       "      <td>0.0</td>\n",
       "      <td>0.0</td>\n",
       "      <td>NaN</td>\n",
       "      <td>10.0</td>\n",
       "      <td>NaN</td>\n",
       "      <td>NaN</td>\n",
       "      <td>6037.0</td>\n",
       "    </tr>\n",
       "    <tr>\n",
       "      <th>3</th>\n",
       "      <td>0.0</td>\n",
       "      <td>0.0</td>\n",
       "      <td>NaN</td>\n",
       "      <td>2108.0</td>\n",
       "      <td>NaN</td>\n",
       "      <td>174.21</td>\n",
       "      <td>6037.0</td>\n",
       "    </tr>\n",
       "    <tr>\n",
       "      <th>4</th>\n",
       "      <td>4.0</td>\n",
       "      <td>2.0</td>\n",
       "      <td>3633.0</td>\n",
       "      <td>296425.0</td>\n",
       "      <td>2005.0</td>\n",
       "      <td>6941.39</td>\n",
       "      <td>6037.0</td>\n",
       "    </tr>\n",
       "  </tbody>\n",
       "</table>\n",
       "</div>"
      ],
      "text/plain": [
       "   num_beds  num_baths  square_footage  tax_value  year_built  tax_amount  \\\n",
       "0       0.0        0.0             NaN    27516.0         NaN         NaN   \n",
       "1       0.0        0.0             NaN       10.0         NaN         NaN   \n",
       "2       0.0        0.0             NaN       10.0         NaN         NaN   \n",
       "3       0.0        0.0             NaN     2108.0         NaN      174.21   \n",
       "4       4.0        2.0          3633.0   296425.0      2005.0     6941.39   \n",
       "\n",
       "     fips  \n",
       "0  6037.0  \n",
       "1  6037.0  \n",
       "2  6037.0  \n",
       "3  6037.0  \n",
       "4  6037.0  "
      ]
     },
     "execution_count": 65,
     "metadata": {},
     "output_type": "execute_result"
    }
   ],
   "source": [
    "df = get_zillow_data()\n",
    "df.head()"
   ]
  },
  {
   "cell_type": "markdown",
   "id": "7e1fa42b",
   "metadata": {},
   "source": [
    "2. Using your acquired Zillow data, walk through the summarization and cleaning steps in your wrangle.ipynb file like we did above. You may handle the missing values however you feel is appropriate and meaninful; remember to document your process and decisions using markdown and code commenting where helpful.\n"
   ]
  },
  {
   "cell_type": "code",
   "execution_count": 66,
   "id": "df206df6",
   "metadata": {},
   "outputs": [
    {
     "data": {
      "text/plain": [
       "(2152864, 7)"
      ]
     },
     "execution_count": 66,
     "metadata": {},
     "output_type": "execute_result"
    }
   ],
   "source": [
    "df.shape"
   ]
  },
  {
   "cell_type": "code",
   "execution_count": 67,
   "id": "dc734bab",
   "metadata": {},
   "outputs": [
    {
     "data": {
      "text/html": [
       "<div>\n",
       "<style scoped>\n",
       "    .dataframe tbody tr th:only-of-type {\n",
       "        vertical-align: middle;\n",
       "    }\n",
       "\n",
       "    .dataframe tbody tr th {\n",
       "        vertical-align: top;\n",
       "    }\n",
       "\n",
       "    .dataframe thead th {\n",
       "        text-align: right;\n",
       "    }\n",
       "</style>\n",
       "<table border=\"1\" class=\"dataframe\">\n",
       "  <thead>\n",
       "    <tr style=\"text-align: right;\">\n",
       "      <th></th>\n",
       "      <th>count</th>\n",
       "      <th>mean</th>\n",
       "      <th>std</th>\n",
       "      <th>min</th>\n",
       "      <th>25%</th>\n",
       "      <th>50%</th>\n",
       "      <th>75%</th>\n",
       "      <th>max</th>\n",
       "    </tr>\n",
       "  </thead>\n",
       "  <tbody>\n",
       "    <tr>\n",
       "      <th>num_beds</th>\n",
       "      <td>2152853.0</td>\n",
       "      <td>3.287195</td>\n",
       "      <td>0.954757</td>\n",
       "      <td>0.00</td>\n",
       "      <td>3.0000</td>\n",
       "      <td>3.000</td>\n",
       "      <td>4.0000</td>\n",
       "      <td>25.00</td>\n",
       "    </tr>\n",
       "    <tr>\n",
       "      <th>num_baths</th>\n",
       "      <td>2152853.0</td>\n",
       "      <td>2.230687</td>\n",
       "      <td>0.999281</td>\n",
       "      <td>0.00</td>\n",
       "      <td>2.0000</td>\n",
       "      <td>2.000</td>\n",
       "      <td>3.0000</td>\n",
       "      <td>32.00</td>\n",
       "    </tr>\n",
       "    <tr>\n",
       "      <th>square_footage</th>\n",
       "      <td>2144379.0</td>\n",
       "      <td>1862.855178</td>\n",
       "      <td>1222.125124</td>\n",
       "      <td>1.00</td>\n",
       "      <td>1257.0000</td>\n",
       "      <td>1623.000</td>\n",
       "      <td>2208.0000</td>\n",
       "      <td>952576.00</td>\n",
       "    </tr>\n",
       "    <tr>\n",
       "      <th>tax_value</th>\n",
       "      <td>2152371.0</td>\n",
       "      <td>461896.052361</td>\n",
       "      <td>699675.940049</td>\n",
       "      <td>1.00</td>\n",
       "      <td>188170.0000</td>\n",
       "      <td>327671.000</td>\n",
       "      <td>534527.0000</td>\n",
       "      <td>98428909.00</td>\n",
       "    </tr>\n",
       "    <tr>\n",
       "      <th>year_built</th>\n",
       "      <td>2143526.0</td>\n",
       "      <td>1960.949681</td>\n",
       "      <td>22.162196</td>\n",
       "      <td>1801.00</td>\n",
       "      <td>1949.0000</td>\n",
       "      <td>1958.000</td>\n",
       "      <td>1976.0000</td>\n",
       "      <td>2016.00</td>\n",
       "    </tr>\n",
       "    <tr>\n",
       "      <th>tax_amount</th>\n",
       "      <td>2148422.0</td>\n",
       "      <td>5634.863752</td>\n",
       "      <td>8178.908996</td>\n",
       "      <td>1.85</td>\n",
       "      <td>2534.9725</td>\n",
       "      <td>4108.945</td>\n",
       "      <td>6414.3175</td>\n",
       "      <td>1337755.86</td>\n",
       "    </tr>\n",
       "    <tr>\n",
       "      <th>fips</th>\n",
       "      <td>2152864.0</td>\n",
       "      <td>6048.377330</td>\n",
       "      <td>20.433289</td>\n",
       "      <td>6037.00</td>\n",
       "      <td>6037.0000</td>\n",
       "      <td>6037.000</td>\n",
       "      <td>6059.0000</td>\n",
       "      <td>6111.00</td>\n",
       "    </tr>\n",
       "  </tbody>\n",
       "</table>\n",
       "</div>"
      ],
      "text/plain": [
       "                    count           mean            std      min          25%  \\\n",
       "num_beds        2152853.0       3.287195       0.954757     0.00       3.0000   \n",
       "num_baths       2152853.0       2.230687       0.999281     0.00       2.0000   \n",
       "square_footage  2144379.0    1862.855178    1222.125124     1.00    1257.0000   \n",
       "tax_value       2152371.0  461896.052361  699675.940049     1.00  188170.0000   \n",
       "year_built      2143526.0    1960.949681      22.162196  1801.00    1949.0000   \n",
       "tax_amount      2148422.0    5634.863752    8178.908996     1.85    2534.9725   \n",
       "fips            2152864.0    6048.377330      20.433289  6037.00    6037.0000   \n",
       "\n",
       "                       50%          75%          max  \n",
       "num_beds             3.000       4.0000        25.00  \n",
       "num_baths            2.000       3.0000        32.00  \n",
       "square_footage    1623.000    2208.0000    952576.00  \n",
       "tax_value       327671.000  534527.0000  98428909.00  \n",
       "year_built        1958.000    1976.0000      2016.00  \n",
       "tax_amount        4108.945    6414.3175   1337755.86  \n",
       "fips              6037.000    6059.0000      6111.00  "
      ]
     },
     "execution_count": 67,
     "metadata": {},
     "output_type": "execute_result"
    }
   ],
   "source": [
    "# Check summary stats\n",
    "df.describe().T"
   ]
  },
  {
   "cell_type": "markdown",
   "id": "20c286a6",
   "metadata": {},
   "source": [
    "Noticed there are some extreme outliers."
   ]
  },
  {
   "cell_type": "code",
   "execution_count": 68,
   "id": "6ca46947",
   "metadata": {},
   "outputs": [],
   "source": [
    "# Function to remove outliers\n",
    "def remove_outliers(df, k, col_list):\n",
    "    ''' \n",
    "        This function removes outliers from a list of columns in a df\n",
    "        then reurns that df. \n",
    "    '''\n",
    "    \n",
    "    for col in col_list:\n",
    "\n",
    "        q1, q3 = df[col].quantile([.25, .75])  # get quartiles\n",
    "        \n",
    "        iqr = q3 - q1   # calculate interquartile range\n",
    "        \n",
    "        upper_bound = q3 + k * iqr   # get upper bound\n",
    "        lower_bound = q1 - k * iqr   # get lower bound\n",
    "\n",
    "        # return dataframe sans outliers\n",
    "        \n",
    "        df = df[(df[col] > lower_bound) & (df[col] < upper_bound)]\n",
    "        \n",
    "    return df\n"
   ]
  },
  {
   "cell_type": "code",
   "execution_count": 69,
   "id": "54c96417",
   "metadata": {},
   "outputs": [],
   "source": [
    " df = remove_outliers(df, 1.5, ['num_beds', 'num_baths', 'square_footage', 'tax_value', 'year_built', 'tax_amount'])"
   ]
  },
  {
   "cell_type": "code",
   "execution_count": 70,
   "id": "57eb9cba",
   "metadata": {},
   "outputs": [
    {
     "data": {
      "text/html": [
       "<div>\n",
       "<style scoped>\n",
       "    .dataframe tbody tr th:only-of-type {\n",
       "        vertical-align: middle;\n",
       "    }\n",
       "\n",
       "    .dataframe tbody tr th {\n",
       "        vertical-align: top;\n",
       "    }\n",
       "\n",
       "    .dataframe thead th {\n",
       "        text-align: right;\n",
       "    }\n",
       "</style>\n",
       "<table border=\"1\" class=\"dataframe\">\n",
       "  <thead>\n",
       "    <tr style=\"text-align: right;\">\n",
       "      <th></th>\n",
       "      <th>count</th>\n",
       "      <th>mean</th>\n",
       "      <th>std</th>\n",
       "      <th>min</th>\n",
       "      <th>25%</th>\n",
       "      <th>50%</th>\n",
       "      <th>75%</th>\n",
       "      <th>max</th>\n",
       "    </tr>\n",
       "  </thead>\n",
       "  <tbody>\n",
       "    <tr>\n",
       "      <th>num_beds</th>\n",
       "      <td>1799545.0</td>\n",
       "      <td>3.219901</td>\n",
       "      <td>0.777372</td>\n",
       "      <td>2.00</td>\n",
       "      <td>3.00</td>\n",
       "      <td>3.00</td>\n",
       "      <td>4.00</td>\n",
       "      <td>5.00</td>\n",
       "    </tr>\n",
       "    <tr>\n",
       "      <th>num_baths</th>\n",
       "      <td>1799545.0</td>\n",
       "      <td>2.060948</td>\n",
       "      <td>0.699571</td>\n",
       "      <td>1.00</td>\n",
       "      <td>2.00</td>\n",
       "      <td>2.00</td>\n",
       "      <td>2.50</td>\n",
       "      <td>4.00</td>\n",
       "    </tr>\n",
       "    <tr>\n",
       "      <th>square_footage</th>\n",
       "      <td>1799545.0</td>\n",
       "      <td>1653.425259</td>\n",
       "      <td>562.065770</td>\n",
       "      <td>1.00</td>\n",
       "      <td>1232.00</td>\n",
       "      <td>1548.00</td>\n",
       "      <td>1984.00</td>\n",
       "      <td>3410.00</td>\n",
       "    </tr>\n",
       "    <tr>\n",
       "      <th>tax_value</th>\n",
       "      <td>1799545.0</td>\n",
       "      <td>328068.685584</td>\n",
       "      <td>198102.467996</td>\n",
       "      <td>22.00</td>\n",
       "      <td>174331.00</td>\n",
       "      <td>297522.00</td>\n",
       "      <td>452274.00</td>\n",
       "      <td>950940.00</td>\n",
       "    </tr>\n",
       "    <tr>\n",
       "      <th>year_built</th>\n",
       "      <td>1799545.0</td>\n",
       "      <td>1960.104878</td>\n",
       "      <td>18.852253</td>\n",
       "      <td>1915.00</td>\n",
       "      <td>1950.00</td>\n",
       "      <td>1957.00</td>\n",
       "      <td>1972.00</td>\n",
       "      <td>2006.00</td>\n",
       "    </tr>\n",
       "    <tr>\n",
       "      <th>tax_amount</th>\n",
       "      <td>1799545.0</td>\n",
       "      <td>4066.124662</td>\n",
       "      <td>2227.213122</td>\n",
       "      <td>16.48</td>\n",
       "      <td>2374.73</td>\n",
       "      <td>3751.14</td>\n",
       "      <td>5478.11</td>\n",
       "      <td>10329.43</td>\n",
       "    </tr>\n",
       "    <tr>\n",
       "      <th>fips</th>\n",
       "      <td>1799545.0</td>\n",
       "      <td>6048.524272</td>\n",
       "      <td>20.651374</td>\n",
       "      <td>6037.00</td>\n",
       "      <td>6037.00</td>\n",
       "      <td>6037.00</td>\n",
       "      <td>6059.00</td>\n",
       "      <td>6111.00</td>\n",
       "    </tr>\n",
       "  </tbody>\n",
       "</table>\n",
       "</div>"
      ],
      "text/plain": [
       "                    count           mean            std      min        25%  \\\n",
       "num_beds        1799545.0       3.219901       0.777372     2.00       3.00   \n",
       "num_baths       1799545.0       2.060948       0.699571     1.00       2.00   \n",
       "square_footage  1799545.0    1653.425259     562.065770     1.00    1232.00   \n",
       "tax_value       1799545.0  328068.685584  198102.467996    22.00  174331.00   \n",
       "year_built      1799545.0    1960.104878      18.852253  1915.00    1950.00   \n",
       "tax_amount      1799545.0    4066.124662    2227.213122    16.48    2374.73   \n",
       "fips            1799545.0    6048.524272      20.651374  6037.00    6037.00   \n",
       "\n",
       "                      50%        75%        max  \n",
       "num_beds             3.00       4.00       5.00  \n",
       "num_baths            2.00       2.50       4.00  \n",
       "square_footage    1548.00    1984.00    3410.00  \n",
       "tax_value       297522.00  452274.00  950940.00  \n",
       "year_built        1957.00    1972.00    2006.00  \n",
       "tax_amount        3751.14    5478.11   10329.43  \n",
       "fips              6037.00    6059.00    6111.00  "
      ]
     },
     "execution_count": 70,
     "metadata": {},
     "output_type": "execute_result"
    }
   ],
   "source": [
    "df.describe().T"
   ]
  },
  {
   "cell_type": "markdown",
   "id": "e1e5e9c5",
   "metadata": {},
   "source": [
    "The outliers have now been removed. "
   ]
  },
  {
   "cell_type": "code",
   "execution_count": 71,
   "id": "409357b7",
   "metadata": {},
   "outputs": [
    {
     "data": {
      "text/plain": [
       "num_beds          0\n",
       "num_baths         0\n",
       "square_footage    0\n",
       "tax_value         0\n",
       "year_built        0\n",
       "tax_amount        0\n",
       "fips              0\n",
       "dtype: int64"
      ]
     },
     "execution_count": 71,
     "metadata": {},
     "output_type": "execute_result"
    }
   ],
   "source": [
    "# Check for NULLS in each column\n",
    "df.isnull().sum()"
   ]
  },
  {
   "cell_type": "markdown",
   "id": "f3d5fcf5",
   "metadata": {},
   "source": [
    "Note: Removing the outliers got rid of the NULLS in every category."
   ]
  },
  {
   "cell_type": "code",
   "execution_count": 72,
   "id": "34ecd77b",
   "metadata": {},
   "outputs": [
    {
     "name": "stdout",
     "output_type": "stream",
     "text": [
      "(1799545, 7)\n",
      "(1790607, 7)\n"
     ]
    }
   ],
   "source": [
    "# Drop duplicates\n",
    "\n",
    "print(df.shape)\n",
    "df = df.drop_duplicates()\n",
    "print(df.shape)"
   ]
  },
  {
   "cell_type": "code",
   "execution_count": 73,
   "id": "c6542b79",
   "metadata": {},
   "outputs": [
    {
     "name": "stdout",
     "output_type": "stream",
     "text": [
      "<class 'pandas.core.frame.DataFrame'>\n",
      "Int64Index: 1790607 entries, 7 to 2152854\n",
      "Data columns (total 7 columns):\n",
      " #   Column          Dtype  \n",
      "---  ------          -----  \n",
      " 0   num_beds        float64\n",
      " 1   num_baths       float64\n",
      " 2   square_footage  float64\n",
      " 3   tax_value       float64\n",
      " 4   year_built      float64\n",
      " 5   tax_amount      float64\n",
      " 6   fips            float64\n",
      "dtypes: float64(7)\n",
      "memory usage: 109.3 MB\n"
     ]
    }
   ],
   "source": [
    "# check datatypes\n",
    "df.info()"
   ]
  },
  {
   "cell_type": "markdown",
   "id": "91c04d59",
   "metadata": {},
   "source": [
    "Going to convert num_beds, num_baths, square_footage, year_built, and flips to 'object'"
   ]
  },
  {
   "cell_type": "code",
   "execution_count": 74,
   "id": "5fed6115",
   "metadata": {},
   "outputs": [],
   "source": [
    "# Convert 'float64' to 'object'\n",
    "df.num_beds = df.num_beds.astype(object)\n",
    "df.num_baths = df.num_baths.astype(object)\n",
    "df.square_footage = df.square_footage.astype(object)\n",
    "df.year_built = df.year_built.astype(object)\n",
    "df.fips = df.fips.astype(object)"
   ]
  },
  {
   "cell_type": "code",
   "execution_count": 75,
   "id": "3957dd51",
   "metadata": {},
   "outputs": [
    {
     "name": "stdout",
     "output_type": "stream",
     "text": [
      "<class 'pandas.core.frame.DataFrame'>\n",
      "Int64Index: 1790607 entries, 7 to 2152854\n",
      "Data columns (total 7 columns):\n",
      " #   Column          Dtype  \n",
      "---  ------          -----  \n",
      " 0   num_beds        object \n",
      " 1   num_baths       object \n",
      " 2   square_footage  object \n",
      " 3   tax_value       float64\n",
      " 4   year_built      object \n",
      " 5   tax_amount      float64\n",
      " 6   fips            object \n",
      "dtypes: float64(2), object(5)\n",
      "memory usage: 109.3+ MB\n"
     ]
    }
   ],
   "source": [
    "df.info() "
   ]
  },
  {
   "cell_type": "markdown",
   "id": "e73a48ec",
   "metadata": {},
   "source": [
    "Steps in Prep: \n",
    "   \n",
    "   - Remove Outliers\n",
    "   - Removing outliers removed NULLS so no NULLS\n",
    "   - Remove duplicates\n",
    "   - Correct datatypes "
   ]
  },
  {
   "cell_type": "code",
   "execution_count": 76,
   "id": "f99e04e3",
   "metadata": {},
   "outputs": [],
   "source": [
    "def get_hist(df):\n",
    "    ''' Gets histographs of acquired continuous variables'''\n",
    "    \n",
    "    plt.figure(figsize=(16, 3))\n",
    "\n",
    "    # List of columns\n",
    "    cols = [col for col in df.columns if col not in ['fips', 'year_built']]\n",
    "\n",
    "    for i, col in enumerate(cols):\n",
    "\n",
    "        # i starts at 0, but plot nos should start at 1\n",
    "        plot_number = i + 1 \n",
    "\n",
    "        # Create subplot.\n",
    "        plt.subplot(1, len(cols), plot_number)\n",
    "\n",
    "        # Title with column name.\n",
    "        plt.title(col)\n",
    "\n",
    "        # Display histogram for column.\n",
    "        df[col].hist(bins=5)\n",
    "\n",
    "        # Hide gridlines.\n",
    "        plt.grid(False)\n",
    "\n",
    "        # turn off scientific notation\n",
    "        plt.ticklabel_format(useOffset=False)\n",
    "\n",
    "        plt.tight_layout()\n",
    "\n",
    "    plt.show()"
   ]
  },
  {
   "cell_type": "code",
   "execution_count": 77,
   "id": "bef9fc56",
   "metadata": {},
   "outputs": [],
   "source": [
    "def get_box(df):\n",
    "    ''' Gets boxplots of acquired continuous variables'''\n",
    "    \n",
    "    # List of columns\n",
    "    cols = ['num_beds', 'num_baths', 'square_footage', 'tax_value', 'tax_amount']\n",
    "\n",
    "    plt.figure(figsize=(16, 3))\n",
    "\n",
    "    for i, col in enumerate(cols):\n",
    "\n",
    "        # i starts at 0, but plot should start at 1\n",
    "        plot_number = i + 1 \n",
    "\n",
    "        # Create subplot.\n",
    "        plt.subplot(1, len(cols), plot_number)\n",
    "\n",
    "        # Title with column name.\n",
    "        plt.title(col)\n",
    "\n",
    "        # Display boxplot for column.\n",
    "        sns.boxplot(data=df[[col]])\n",
    "\n",
    "        # Hide gridlines.\n",
    "        plt.grid(False)\n",
    "\n",
    "        # sets proper spacing between plots\n",
    "        plt.tight_layout()\n",
    "\n",
    "    plt.show()"
   ]
  },
  {
   "cell_type": "markdown",
   "id": "36bfd5c6",
   "metadata": {},
   "source": [
    "3. Store all of the necessary functions to automate your process from acquiring the data to returning a cleaned dataframe witn no missing values in your wrangle.py file. Name your final function wrangle_zillow.\n"
   ]
  },
  {
   "cell_type": "code",
   "execution_count": 82,
   "id": "b8b14314",
   "metadata": {},
   "outputs": [],
   "source": [
    "def prepare_zillow(df):\n",
    "    ''' Prepare zillow data for exploration'''\n",
    "\n",
    "    # removing outliers\n",
    "    df = remove_outliers(df, 1.5, ['num_beds', 'num_baths', 'square_footage', 'tax_value', 'year_built', 'tax_amount'])\n",
    "    \n",
    "    # Drop duplicates\n",
    "    df = df.drop_duplicates()\n",
    "    \n",
    "    # converting column datatypes\n",
    "    df.num_beds = df.num_beds.astype(object)\n",
    "    df.num_baths = df.num_baths.astype(object)\n",
    "    df.square_footage = df.square_footage.astype(object)\n",
    "    df.year_built = df.year_built.astype(object)\n",
    "    df.fips = df.fips.astype(object)\n",
    "    \n",
    "    # get distributions of numeric data\n",
    "    get_hist(df)\n",
    "    get_box(df)\n",
    "    \n",
    "    # train/validate/test split\n",
    "    train_validate, test = train_test_split(df, test_size=.2, random_state=123)\n",
    "    train, validate = train_test_split(train_validate, test_size=.3, random_state=123)\n",
    "    \n",
    "\n",
    "    return train, validate, test "
   ]
  },
  {
   "cell_type": "code",
   "execution_count": 89,
   "id": "279b978a",
   "metadata": {},
   "outputs": [],
   "source": [
    "def wrangle_zillow():\n",
    "    '''\n",
    "    This function will both aquire and prepare the zillow data.\n",
    "    It displays the histogram and boxplots before splitting the df.\n",
    "    After running this function the data is ready for exploritory analysis.\n",
    "    '''\n",
    "    train, validate, test = prepare_zillow(get_zillow_data())\n",
    "    \n",
    "    return train, validate, test"
   ]
  },
  {
   "cell_type": "code",
   "execution_count": 84,
   "id": "ac52df58",
   "metadata": {},
   "outputs": [
    {
     "data": {
      "image/png": "[encoded data removed]",
      "text/plain": [
       "<Figure size 1152x216 with 5 Axes>"
      ]
     },
     "metadata": {
      "needs_background": "light"
     },
     "output_type": "display_data"
    },
    {
     "data": {
      "image/png": "[encoded data removed]",
      "text/plain": [
       "<Figure size 1152x216 with 5 Axes>"
      ]
     },
     "metadata": {
      "needs_background": "light"
     },
     "output_type": "display_data"
    }
   ],
   "source": [
    "train, validate, test = wrangle_zillow()"
   ]
  },
  {
   "cell_type": "code",
   "execution_count": 85,
   "id": "9a96fefd",
   "metadata": {},
   "outputs": [
    {
     "data": {
      "text/html": [
       "<div>\n",
       "<style scoped>\n",
       "    .dataframe tbody tr th:only-of-type {\n",
       "        vertical-align: middle;\n",
       "    }\n",
       "\n",
       "    .dataframe tbody tr th {\n",
       "        vertical-align: top;\n",
       "    }\n",
       "\n",
       "    .dataframe thead th {\n",
       "        text-align: right;\n",
       "    }\n",
       "</style>\n",
       "<table border=\"1\" class=\"dataframe\">\n",
       "  <thead>\n",
       "    <tr style=\"text-align: right;\">\n",
       "      <th></th>\n",
       "      <th>num_beds</th>\n",
       "      <th>num_baths</th>\n",
       "      <th>square_footage</th>\n",
       "      <th>tax_value</th>\n",
       "      <th>year_built</th>\n",
       "      <th>tax_amount</th>\n",
       "      <th>fips</th>\n",
       "    </tr>\n",
       "  </thead>\n",
       "  <tbody>\n",
       "    <tr>\n",
       "      <th>1852198</th>\n",
       "      <td>4.0</td>\n",
       "      <td>2.0</td>\n",
       "      <td>1986.0</td>\n",
       "      <td>267140.0</td>\n",
       "      <td>1963.0</td>\n",
       "      <td>2824.78</td>\n",
       "      <td>6111.0</td>\n",
       "    </tr>\n",
       "    <tr>\n",
       "      <th>126219</th>\n",
       "      <td>3.0</td>\n",
       "      <td>1.0</td>\n",
       "      <td>877.0</td>\n",
       "      <td>82067.0</td>\n",
       "      <td>1953.0</td>\n",
       "      <td>1235.32</td>\n",
       "      <td>6059.0</td>\n",
       "    </tr>\n",
       "    <tr>\n",
       "      <th>855070</th>\n",
       "      <td>4.0</td>\n",
       "      <td>3.0</td>\n",
       "      <td>1972.0</td>\n",
       "      <td>159374.0</td>\n",
       "      <td>1942.0</td>\n",
       "      <td>2091.75</td>\n",
       "      <td>6037.0</td>\n",
       "    </tr>\n",
       "    <tr>\n",
       "      <th>1569772</th>\n",
       "      <td>4.0</td>\n",
       "      <td>2.0</td>\n",
       "      <td>1309.0</td>\n",
       "      <td>497923.0</td>\n",
       "      <td>1956.0</td>\n",
       "      <td>5623.58</td>\n",
       "      <td>6059.0</td>\n",
       "    </tr>\n",
       "    <tr>\n",
       "      <th>80997</th>\n",
       "      <td>3.0</td>\n",
       "      <td>2.0</td>\n",
       "      <td>1512.0</td>\n",
       "      <td>205712.0</td>\n",
       "      <td>1951.0</td>\n",
       "      <td>2729.58</td>\n",
       "      <td>6037.0</td>\n",
       "    </tr>\n",
       "  </tbody>\n",
       "</table>\n",
       "</div>"
      ],
      "text/plain": [
       "        num_beds num_baths square_footage  tax_value year_built  tax_amount  \\\n",
       "1852198      4.0       2.0         1986.0   267140.0     1963.0     2824.78   \n",
       "126219       3.0       1.0          877.0    82067.0     1953.0     1235.32   \n",
       "855070       4.0       3.0         1972.0   159374.0     1942.0     2091.75   \n",
       "1569772      4.0       2.0         1309.0   497923.0     1956.0     5623.58   \n",
       "80997        3.0       2.0         1512.0   205712.0     1951.0     2729.58   \n",
       "\n",
       "           fips  \n",
       "1852198  6111.0  \n",
       "126219   6059.0  \n",
       "855070   6037.0  \n",
       "1569772  6059.0  \n",
       "80997    6037.0  "
      ]
     },
     "execution_count": 85,
     "metadata": {},
     "output_type": "execute_result"
    }
   ],
   "source": [
    "train.head()"
   ]
  },
  {
   "cell_type": "code",
   "execution_count": 86,
   "id": "bc85c3f4",
   "metadata": {},
   "outputs": [
    {
     "data": {
      "text/plain": [
       "(1002739, 7)"
      ]
     },
     "execution_count": 86,
     "metadata": {},
     "output_type": "execute_result"
    }
   ],
   "source": [
    "train.shape"
   ]
  },
  {
   "cell_type": "code",
   "execution_count": 87,
   "id": "69782936",
   "metadata": {},
   "outputs": [
    {
     "data": {
      "text/plain": [
       "(429746, 7)"
      ]
     },
     "execution_count": 87,
     "metadata": {},
     "output_type": "execute_result"
    }
   ],
   "source": [
    "validate.shape"
   ]
  },
  {
   "cell_type": "code",
   "execution_count": 88,
   "id": "e836e079",
   "metadata": {},
   "outputs": [
    {
     "data": {
      "text/plain": [
       "(358122, 7)"
      ]
     },
     "execution_count": 88,
     "metadata": {},
     "output_type": "execute_result"
    }
   ],
   "source": [
    "test.shape"
   ]
  },
  {
   "cell_type": "code",
   "execution_count": null,
   "id": "0b421dd4",
   "metadata": {},
   "outputs": [],
   "source": []
  }
 ],
 "metadata": {
  "kernelspec": {
   "display_name": "Python 3",
   "language": "python",
   "name": "python3"
  },
  "language_info": {
   "codemirror_mode": {
    "name": "ipython",
    "version": 3
   },
   "file_extension": ".py",
   "mimetype": "text/x-python",
   "name": "python",
   "nbconvert_exporter": "python",
   "pygments_lexer": "ipython3",
   "version": "3.8.8"
  }
 },
 "nbformat": 4,
 "nbformat_minor": 5
}
